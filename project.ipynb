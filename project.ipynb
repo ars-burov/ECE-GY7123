{
  "cells": [
    {
      "cell_type": "code",
      "execution_count": null,
      "metadata": {
        "id": "oqJJzgMruFxn"
      },
      "outputs": [],
      "source": [
        "from __future__ import print_function\n",
        "#%matplotlib inline\n",
        "import pickle\n",
        "import argparse\n",
        "import os\n",
        "import random\n",
        "import torch\n",
        "import torch.nn as nn\n",
        "import torch.nn.parallel\n",
        "import torch.optim as optim\n",
        "import torch.utils.data\n",
        "import torchvision.datasets as dset\n",
        "import torchvision.transforms as transforms\n",
        "import torchvision.utils as vutils\n",
        "import numpy as np\n",
        "import matplotlib.pyplot as plt\n",
        "import matplotlib.animation as animation\n",
        "from IPython.display import HTML\n",
        "\n",
        "# Do not modify the seed to reproduce the results\n",
        "manualSeed = 999\n",
        "print(\"Random Seed: \", manualSeed)\n",
        "random.seed(manualSeed)\n",
        "torch.manual_seed(manualSeed)"
      ]
    },
    {
      "cell_type": "code",
      "execution_count": null,
      "metadata": {
        "id": "exx7noYh0lZH"
      },
      "outputs": [],
      "source": [
        "# I used Google Colab to train models\n",
        "# The dataset is stored on my Google Drive\n",
        "from google.colab import drive\n",
        "drive.mount('/content/drive')"
      ]
    },
    {
      "cell_type": "code",
      "execution_count": 12,
      "metadata": {
        "id": "PvDiw26tPaBw"
      },
      "outputs": [],
      "source": [
        "# You can download the dataset archive here https://www.kaggle.com/greg115/abstract-art\n",
        "# !unzip ./drive/MyDrive/archive.zip -d ./drive/MyDrive/abstract_art"
      ]
    },
    {
      "cell_type": "code",
      "execution_count": 13,
      "metadata": {
        "id": "UnMPz-OauOHg"
      },
      "outputs": [],
      "source": [
        "# Root directory for dataset\n",
        "dataroot = \"./drive/MyDrive/abstract_art\"\n",
        "\n",
        "# Number of workers for dataloader\n",
        "workers = 2\n",
        "\n",
        "# Batch size during training\n",
        "batch_size = 128\n",
        "\n",
        "# Size of training images that will be yielded from Dataloader\n",
        "image_size = 64\n",
        "\n",
        "# Number of color channels for the images\n",
        "num_channels = 3\n",
        "\n",
        "# Size of z \n",
        "# random latent vector that Generator uses to generate images\n",
        "z_size = 100\n",
        "\n",
        "# Number of filter channels for the first convolution layer\n",
        "# for the Generator model\n",
        "gen_features = 64\n",
        "\n",
        "# Number of filter channels for the first convolution layer\n",
        "# for the Discriminator model\n",
        "disc_features = 64\n",
        "\n",
        "# Number of training epochs\n",
        "num_epochs = 400\n",
        "\n",
        "# Learning rate for optimizer\n",
        "lr = 0.0002\n",
        "\n",
        "# Beta1 hyperparam for Adam optimizer\n",
        "beta1 = 0.5\n",
        "\n",
        "# Number of GPUs available\n",
        "ngpu = torch.cuda.device_count()"
      ]
    },
    {
      "cell_type": "code",
      "execution_count": null,
      "metadata": {
        "id": "cvO0MEoe7DLN"
      },
      "outputs": [],
      "source": [
        "dataset = dset.ImageFolder(root=dataroot,\n",
        "                           transform=transforms.Compose([\n",
        "                               transforms.Resize(image_size),\n",
        "                               transforms.RandomCrop(image_size),\n",
        "                               transforms.RandomHorizontalFlip(),\n",
        "                               transforms.RandomVerticalFlip(),\n",
        "                               transforms.ToTensor(),\n",
        "                               transforms.Normalize((0.5, 0.5, 0.5), (0.5, 0.5, 0.5)),\n",
        "                           ]))\n",
        "# Create the dataloader\n",
        "dataloader = torch.utils.data.DataLoader(dataset, batch_size=batch_size,\n",
        "                                         shuffle=True, num_workers=workers)\n",
        "\n",
        "# Decide which device we want to run on\n",
        "device = torch.device(\"cuda:0\" if (torch.cuda.is_available() and ngpu > 0) else \"cpu\")\n",
        "\n",
        "# Plot some training images\n",
        "real_batch = next(iter(dataloader))\n",
        "plt.figure(figsize=(8,8))\n",
        "plt.axis(\"off\")\n",
        "plt.title(\"Training Images\")\n",
        "plt.imshow(np.transpose(vutils.make_grid(real_batch[0].to(device)[:64], padding=2, normalize=True).cpu(),(1,2,0)))"
      ]
    },
    {
      "cell_type": "code",
      "execution_count": 15,
      "metadata": {
        "id": "uu8W-Sbl7JE8"
      },
      "outputs": [],
      "source": [
        "# custom weights initialization called on netG and netD\n",
        "# uses different zero-mean initialization for convolution layers\n",
        "# unit-mean intialization for batchnorm\n",
        "def weights_init(m):\n",
        "    classname = m.__class__.__name__\n",
        "    if classname.find('Conv') != -1:\n",
        "        nn.init.normal_(m.weight.data, 0.0, 0.02)\n",
        "    elif classname.find('BatchNorm') != -1:\n",
        "        nn.init.normal_(m.weight.data, 1.0, 0.02)\n",
        "        nn.init.constant_(m.bias.data, 0)"
      ]
    },
    {
      "cell_type": "code",
      "execution_count": 16,
      "metadata": {
        "id": "vtdglVli7Usg"
      },
      "outputs": [],
      "source": [
        "# Generator Code\n",
        "class Generator(nn.Module):\n",
        "    def __init__(self, ngpu):\n",
        "        super(Generator, self).__init__()\n",
        "        self.ngpu = ngpu\n",
        "        self.main = nn.Sequential(\n",
        "            # input is latent vector Z, going into a convolution\n",
        "            nn.ConvTranspose2d(z_size, gen_features * 8, 4, 1, 0, bias=False),\n",
        "            nn.BatchNorm2d(gen_features * 8),\n",
        "            nn.ReLU(True),\n",
        "            # state size: (gen_features*8) x 4 x 4\n",
        "            nn.ConvTranspose2d(gen_features * 8, gen_features * 4, 4, 2, 1, bias=False),\n",
        "            nn.BatchNorm2d(gen_features * 4),\n",
        "            nn.ReLU(True),\n",
        "            # state size: (gen_features*4) x 8 x 8\n",
        "            nn.ConvTranspose2d( gen_features * 4, gen_features * 2, 4, 2, 1, bias=False),\n",
        "            nn.BatchNorm2d(gen_features * 2),\n",
        "            nn.ReLU(True),\n",
        "            # state size: (gen_features*2) x 16 x 16\n",
        "            nn.ConvTranspose2d( gen_features * 2, gen_features, 4, 2, 1, bias=False),\n",
        "            nn.BatchNorm2d(gen_features),\n",
        "            nn.ReLU(True),\n",
        "            # state size: (gen_features) x 32 x 32\n",
        "            nn.ConvTranspose2d( gen_features, num_channels, 4, 2, 1, bias=False),\n",
        "            nn.Tanh()\n",
        "            # state size: (num_channels) x 64 x 64\n",
        "        )\n",
        "\n",
        "    def forward(self, input):\n",
        "        return self.main(input)"
      ]
    },
    {
      "cell_type": "code",
      "execution_count": null,
      "metadata": {
        "id": "l9enEt_K7bg_"
      },
      "outputs": [],
      "source": [
        "netG = Generator(ngpu).to(device)\n",
        "\n",
        "# For those lucky that have multiple GPUs\n",
        "if (device.type == 'cuda') and (ngpu > 1):\n",
        "    netG = nn.DataParallel(netG, list(range(ngpu)))\n",
        "\n",
        "netG.apply(weights_init)\n",
        "\n",
        "print(netG)"
      ]
    },
    {
      "cell_type": "code",
      "execution_count": 18,
      "metadata": {
        "id": "8lrcDMXf7ktJ"
      },
      "outputs": [],
      "source": [
        "class Discriminator(nn.Module):\n",
        "    def __init__(self, ngpu):\n",
        "        super(Discriminator, self).__init__()\n",
        "        self.ngpu = ngpu\n",
        "        self.main = nn.Sequential(\n",
        "            # input is (num_channels) x 64 x 64\n",
        "            nn.Conv2d(num_channels, disc_features, 4, 2, 1, bias=False),\n",
        "            nn.LeakyReLU(0.2, inplace=True),\n",
        "            # state size. (disc_features) x 32 x 32\n",
        "            nn.Conv2d(disc_features, disc_features * 2, 4, 2, 1, bias=False),\n",
        "            nn.BatchNorm2d(disc_features * 2),\n",
        "            nn.LeakyReLU(0.2, inplace=True),\n",
        "            # state size. (disc_features*2) x 16 x 16\n",
        "            nn.Conv2d(disc_features * 2, disc_features * 4, 4, 2, 1, bias=False),\n",
        "            nn.BatchNorm2d(disc_features * 4),\n",
        "            nn.LeakyReLU(0.2, inplace=True),\n",
        "            # state size. (disc_features*4) x 8 x 8\n",
        "            nn.Conv2d(disc_features * 4, disc_features * 8, 4, 2, 1, bias=False),\n",
        "            nn.BatchNorm2d(disc_features * 8),\n",
        "            nn.LeakyReLU(0.2, inplace=True),\n",
        "            # state size. (disc_features*8) x 4 x 4\n",
        "            nn.Conv2d(disc_features * 8, 1, 4, 1, 0, bias=False),\n",
        "            nn.Sigmoid()\n",
        "        )\n",
        "\n",
        "    def forward(self, input):\n",
        "        return self.main(input)"
      ]
    },
    {
      "cell_type": "code",
      "execution_count": null,
      "metadata": {
        "id": "24ge_lKM7njZ"
      },
      "outputs": [],
      "source": [
        "netD = Discriminator(ngpu).to(device)\n",
        "\n",
        "if (device.type == 'cuda') and (ngpu > 1):\n",
        "    netD = nn.DataParallel(netD, list(range(ngpu)))\n",
        "\n",
        "netD.apply(weights_init)\n",
        "\n",
        "print(netD)"
      ]
    },
    {
      "cell_type": "code",
      "execution_count": 20,
      "metadata": {
        "id": "0FHajDNd8jc0"
      },
      "outputs": [],
      "source": [
        "# As described we use BCE Loss function\n",
        "criterion = nn.BCELoss()\n",
        "\n",
        "# Fixed latent vector to use for progression image generation\n",
        "fixed_noise = torch.randn(64, z_size, 1, 1, device=device)\n",
        "\n",
        "real_label = 1.\n",
        "fake_label = 0.\n",
        "\n",
        "optimizerD = optim.Adam(netD.parameters(), lr=lr, betas=(beta1, 0.999))\n",
        "optimizerG = optim.Adam(netG.parameters(), lr=lr, betas=(beta1, 0.999))"
      ]
    },
    {
      "cell_type": "code",
      "execution_count": 21,
      "metadata": {
        "id": "AGlIRGUdd1Ip"
      },
      "outputs": [],
      "source": [
        "# Image snapshots to be used to display progression\n",
        "img_list = []\n",
        "\n",
        "# Losses history\n",
        "G_losses = []\n",
        "D_losses = []"
      ]
    },
    {
      "cell_type": "code",
      "execution_count": 23,
      "metadata": {
        "id": "Jz4vYanunF5w"
      },
      "outputs": [],
      "source": [
        "# helper function to load model and snapshots from a checkpoint\n",
        "# progress is saved using save_progress function\n",
        "def load_progress(epoch, dir_name):\n",
        "  with open(f'{dir_name}/res_arr_{epoch}.pickle', 'rb') as f:\n",
        "    img_list, G_losses, D_losses = pickle.load(f)\n",
        "  netD.load_state_dict(torch.load(f'{dir_name}/{epoch}iter_desc'))\n",
        "  netG.load_state_dict(torch.load(f'{dir_name}/{epoch}iter_gen'))\n",
        "\n",
        "# saves snapshots and model weights\n",
        "def save_progress(epoch, dir_name='./drive/MyDrive/abstract_res_snaps'):\n",
        "  print('saving progress')\n",
        "  with open(f'{dir_name}/res_arr_{epoch}.pickle', 'wb') as f:\n",
        "    pickle.dump([img_list, G_losses, D_losses], f)\n",
        "  torch.save(netD, f'{dir_name}/{epoch}iter_desc')\n",
        "  torch.save(netG, f'{dir_name}/{epoch}iter_gen')"
      ]
    },
    {
      "cell_type": "code",
      "execution_count": null,
      "metadata": {
        "id": "VHY6lnRK9HTt"
      },
      "outputs": [],
      "source": [
        "# Training Loop\n",
        "\n",
        "iters = 0\n",
        "\n",
        "print(\"Starting Training Loop...\")\n",
        "for epoch in range(num_epochs):\n",
        "    # saving progress each 50 epochs\n",
        "    if epoch % 50 == 0:\n",
        "      save_progress(epoch)\n",
        "    \n",
        "    for i, data in enumerate(dataloader, 0):\n",
        "\n",
        "        netD.zero_grad()\n",
        "\n",
        "        real_cpu = data[0].to(device)\n",
        "        b_size = real_cpu.size(0)\n",
        "        label = torch.full((b_size,), real_label, dtype=torch.float, device=device)\n",
        "\n",
        "        output = netD(real_cpu).view(-1)\n",
        "\n",
        "        # calculating Discriminator error on a real batch\n",
        "        errD_real = criterion(output, label)\n",
        "        errD_real.backward()\n",
        "        D_x = output.mean().item()\n",
        "\n",
        "        noise = torch.randn(b_size, z_size, 1, 1, device=device)\n",
        "        fake = netG(noise)\n",
        "        label.fill_(fake_label)\n",
        "\n",
        "        output = netD(fake.detach()).view(-1)\n",
        "\n",
        "        # calculating Discriminator error on a fake batch\n",
        "        errD_fake = criterion(output, label)\n",
        "        errD_fake.backward()\n",
        "        D_G_z1 = output.mean().item()\n",
        "\n",
        "        # total error on both batches\n",
        "        errD = errD_real + errD_fake\n",
        "\n",
        "        # updating Discriminator weights\n",
        "        optimizerD.step()\n",
        "\n",
        "        netG.zero_grad()\n",
        "        label.fill_(real_label)\n",
        "\n",
        "        output = netD(fake).view(-1)\n",
        "\n",
        "        # Calculating Generator error\n",
        "        errG = criterion(output, label)\n",
        "        errG.backward()\n",
        "        D_G_z2 = output.mean().item()\n",
        "\n",
        "        optimizerG.step()\n",
        "\n",
        "        # log each 50 batches\n",
        "        if i % 50 == 0:\n",
        "            print('[%d/%d][%d/%d]\\tLoss_D: %.4f\\tLoss_G: %.4f\\tD(x): %.4f\\tD(G(z)): %.4f / %.4f'\n",
        "                  % (epoch, num_epochs, i, len(dataloader),\n",
        "                     errD.item(), errG.item(), D_x, D_G_z1, D_G_z2))\n",
        "\n",
        "        # Save losses\n",
        "        G_losses.append(errG.item())\n",
        "        D_losses.append(errD.item())\n",
        "\n",
        "        # Each 500 iterations or on the last iteration\n",
        "        # Generate new image snapshots for the fixed latent vector\n",
        "        # Save snapshots to track progression\n",
        "        if (iters % 500 == 0) or ((epoch == num_epochs-1) and (i == len(dataloader)-1)):\n",
        "            with torch.no_grad():\n",
        "                fake = netG(fixed_noise).detach().cpu()\n",
        "            img_list.append(vutils.make_grid(fake, padding=2, normalize=True))\n",
        "\n",
        "        iters += 1"
      ]
    },
    {
      "cell_type": "code",
      "execution_count": 27,
      "metadata": {
        "colab": {
          "base_uri": "https://localhost:8080/",
          "height": 350
        },
        "id": "XtHwbs2Y9Qus",
        "outputId": "48030727-42c4-4f7a-89ee-2ea7306ddb15"
      },
      "outputs": [
        {
          "output_type": "display_data",
          "data": {
            "image/png": "[encoded data removed]",
            "text/plain": [
              "<Figure size 720x360 with 1 Axes>"
            ]
          },
          "metadata": {
            "needs_background": "light"
          }
        }
      ],
      "source": [
        "# Plots Generator Loss and its Moving Average\n",
        "# Along with Discriminator loss\n",
        "plt.figure(figsize=(10,5))\n",
        "plt.title(\"Generator and Discriminator Loss During Training\")\n",
        "plt.plot(G_losses, label=\"G\")\n",
        "plt.plot(np.convolve(G_losses, np.ones(30) / 30), label=\"G Moving Average\")\n",
        "plt.plot(D_losses,label=\"D\")\n",
        "plt.xlabel(\"iterations\")\n",
        "plt.ylabel(\"Loss\")\n",
        "plt.legend()\n",
        "plt.show()"
      ]
    },
    {
      "cell_type": "code",
      "execution_count": null,
      "metadata": {
        "id": "xYgNuT3P9Vo_"
      },
      "outputs": [],
      "source": [
        "#%%capture\n",
        "fig = plt.figure(figsize=(8,8))\n",
        "plt.axis(\"off\")\n",
        "ims = [[plt.imshow(np.transpose(i,(1,2,0)), animated=True)] for i in img_list]\n",
        "ani = animation.ArtistAnimation(fig, ims, interval=1000, repeat_delay=1000, blit=True)\n",
        "\n",
        "# Plots an animated grid for generated image progression\n",
        "HTML(ani.to_jshtml())"
      ]
    },
    {
      "cell_type": "code",
      "execution_count": null,
      "metadata": {
        "id": "2oVregVo9YG6"
      },
      "outputs": [],
      "source": [
        "real_batch = next(iter(dataloader))\n",
        "\n",
        "# Plots a real batch\n",
        "plt.figure(figsize=(30,30))\n",
        "plt.subplot(1,2,1)\n",
        "plt.axis(\"off\")\n",
        "plt.title(\"Real Images\")\n",
        "plt.imshow(np.transpose(vutils.make_grid(real_batch[0].to(device)[:64], padding=5, normalize=True).cpu(),(1,2,0)))\n",
        "\n",
        "# Plots fake images from the last epoch\n",
        "plt.subplot(1,2,2)\n",
        "plt.axis(\"off\")\n",
        "plt.title(\"Fake Images\")\n",
        "plt.imshow(np.transpose(img_list[-1],(1,2,0)))\n",
        "plt.show()"
      ]
    },
    {
      "cell_type": "code",
      "execution_count": null,
      "metadata": {
        "id": "zl0Ks5bwN4S8"
      },
      "outputs": [],
      "source": [
        ""
      ]
    }
  ],
  "metadata": {
    "accelerator": "GPU",
    "colab": {
      "collapsed_sections": [],
      "machine_shape": "hm",
      "name": "train.ipynb",
      "provenance": []
    },
    "kernelspec": {
      "display_name": "Python 3",
      "name": "python3"
    },
    "language_info": {
      "name": "python"
    }
  },
  "nbformat": 4,
  "nbformat_minor": 0
}